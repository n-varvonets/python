{
 "cells": [
  {
   "cell_type": "code",
   "execution_count": 2,
   "id": "c65c6684",
   "metadata": {},
   "outputs": [],
   "source": [
    "import pandas as pd \n",
    "from random import randint"
   ]
  },
  {
   "cell_type": "code",
   "execution_count": 3,
   "id": "f8b00dab",
   "metadata": {},
   "outputs": [],
   "source": [
    "numbers = [randint(-50,50) for i in range(100)]"
   ]
  },
  {
   "cell_type": "code",
   "execution_count": 8,
   "id": "19b44d12",
   "metadata": {},
   "outputs": [
    {
     "data": {
      "text/plain": [
       "0     29\n",
       "1     14\n",
       "2     48\n",
       "3    -46\n",
       "4     42\n",
       "      ..\n",
       "95    -4\n",
       "96   -24\n",
       "97   -35\n",
       "98    13\n",
       "99    44\n",
       "Length: 100, dtype: int64"
      ]
     },
     "execution_count": 8,
     "metadata": {},
     "output_type": "execute_result"
    }
   ],
   "source": [
    "s = pd.Series(numbers)\n",
    "s"
   ]
  },
  {
   "cell_type": "markdown",
   "id": "0ae35439",
   "metadata": {},
   "source": [
    "### Прикол в том что от 60ти значений в серии она выводится как в примере выше"
   ]
  },
  {
   "cell_type": "markdown",
   "id": "8955f0cc",
   "metadata": {},
   "source": [
    "### и вот для того что бы просмотреть нужные нам значение есть  методы:"
   ]
  },
  {
   "cell_type": "markdown",
   "id": "54b9f823",
   "metadata": {},
   "source": [
    "### 1.)head()"
   ]
  },
  {
   "cell_type": "code",
   "execution_count": 11,
   "id": "7848bb48",
   "metadata": {},
   "outputs": [
    {
     "data": {
      "text/plain": [
       "(0    29\n",
       " 1    14\n",
       " 2    48\n",
       " 3   -46\n",
       " 4    42\n",
       " dtype: int64,\n",
       " 0    29\n",
       " 1    14\n",
       " 2    48\n",
       " 3   -46\n",
       " 4    42\n",
       " 5    25\n",
       " 6   -33\n",
       " 7    10\n",
       " dtype: int64)"
      ]
     },
     "execution_count": 11,
     "metadata": {},
     "output_type": "execute_result"
    }
   ],
   "source": [
    "s.head(), s.head(8)"
   ]
  },
  {
   "cell_type": "markdown",
   "id": "a1ef63e2",
   "metadata": {},
   "source": [
    "### 2)tail()  -  с ним точно так же как и head(), только теперь берет значения с конца списка"
   ]
  },
  {
   "cell_type": "markdown",
   "id": "2fe8a9d1",
   "metadata": {},
   "source": [
    "### 4)take()"
   ]
  },
  {
   "cell_type": "markdown",
   "id": "015edaa5",
   "metadata": {},
   "source": [
    "4.1) выжно вытягивать значения по индексу"
   ]
  },
  {
   "cell_type": "code",
   "execution_count": 15,
   "id": "5328600a",
   "metadata": {},
   "outputs": [
    {
     "data": {
      "text/plain": [
       "0     29\n",
       "2     48\n",
       "3    -46\n",
       "98    13\n",
       "dtype: int64"
      ]
     },
     "execution_count": 15,
     "metadata": {},
     "output_type": "execute_result"
    }
   ],
   "source": [
    "s.take([0,2, 3, 98])"
   ]
  },
  {
   "cell_type": "markdown",
   "id": "d1df66b2",
   "metadata": {},
   "source": [
    "4.2) так же туда можно передать диапазон/тапл/"
   ]
  },
  {
   "cell_type": "code",
   "execution_count": 13,
   "id": "c7507249",
   "metadata": {},
   "outputs": [
    {
     "data": {
      "text/plain": [
       "[5, 6, 7, 8, 9]"
      ]
     },
     "execution_count": 13,
     "metadata": {},
     "output_type": "execute_result"
    }
   ],
   "source": [
    "list(range(5,10)) # смотри внимательно, потому что выводит НЕВКЛЮЧИТЕЛЬНО последний эелмент"
   ]
  },
  {
   "cell_type": "code",
   "execution_count": 17,
   "id": "d29fe37a",
   "metadata": {},
   "outputs": [
    {
     "data": {
      "text/plain": [
       "2    48\n",
       "3   -46\n",
       "dtype: int64"
      ]
     },
     "execution_count": 17,
     "metadata": {},
     "output_type": "execute_result"
    }
   ],
   "source": [
    "s.take(range(2,4))"
   ]
  },
  {
   "cell_type": "markdown",
   "id": "f56770a0",
   "metadata": {},
   "source": [
    "4.3)  можно указать шаг в диапазоне"
   ]
  },
  {
   "cell_type": "code",
   "execution_count": 18,
   "id": "fe59bfc2",
   "metadata": {},
   "outputs": [
    {
     "data": {
      "text/plain": [
       "0    29\n",
       "2    48\n",
       "4    42\n",
       "dtype: int64"
      ]
     },
     "execution_count": 18,
     "metadata": {},
     "output_type": "execute_result"
    }
   ],
   "source": [
    "s.take(range(0,6,2))"
   ]
  },
  {
   "cell_type": "code",
   "execution_count": null,
   "id": "39ac1a80",
   "metadata": {},
   "outputs": [],
   "source": []
  }
 ],
 "metadata": {
  "kernelspec": {
   "display_name": "Python 3",
   "language": "python",
   "name": "python3"
  },
  "language_info": {
   "codemirror_mode": {
    "name": "ipython",
    "version": 3
   },
   "file_extension": ".py",
   "mimetype": "text/x-python",
   "name": "python",
   "nbconvert_exporter": "python",
   "pygments_lexer": "ipython3",
   "version": "3.8.8"
  }
 },
 "nbformat": 4,
 "nbformat_minor": 5
}
