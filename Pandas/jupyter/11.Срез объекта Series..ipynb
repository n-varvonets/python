{
 "cells": [
  {
   "cell_type": "code",
   "execution_count": 7,
   "id": "bacf8ec7",
   "metadata": {},
   "outputs": [],
   "source": [
    "import pandas as pd \n",
    "from random import randint\n",
    "numbers = [randint(-50,50) for i in range(8)]\n",
    "s = pd.Series(numbers)"
   ]
  },
  {
   "cell_type": "code",
   "execution_count": 8,
   "id": "ddff7890",
   "metadata": {},
   "outputs": [
    {
     "data": {
      "text/plain": [
       "0    21\n",
       "1   -11\n",
       "2   -17\n",
       "3    27\n",
       "4    17\n",
       "dtype: int64"
      ]
     },
     "execution_count": 8,
     "metadata": {},
     "output_type": "execute_result"
    }
   ],
   "source": [
    "s[:5] # analoh head()"
   ]
  },
  {
   "cell_type": "code",
   "execution_count": 9,
   "id": "92c9f515",
   "metadata": {},
   "outputs": [
    {
     "data": {
      "text/plain": [
       "(0    21\n",
       " 1   -11\n",
       " 2   -17\n",
       " 3    27\n",
       " 4    17\n",
       " 5   -21\n",
       " 6   -48\n",
       " dtype: int64,\n",
       " 0    21\n",
       " 1   -11\n",
       " 2   -17\n",
       " 3    27\n",
       " 4    17\n",
       " 5   -21\n",
       " 6   -48\n",
       " 7     8\n",
       " dtype: int64)"
      ]
     },
     "execution_count": 9,
     "metadata": {},
     "output_type": "execute_result"
    }
   ],
   "source": [
    "s[:-1],s[:] # reverse slice "
   ]
  },
  {
   "cell_type": "code",
   "execution_count": 10,
   "id": "d60dbe47",
   "metadata": {},
   "outputs": [
    {
     "data": {
      "text/plain": [
       "(3    27\n",
       " 5   -21\n",
       " dtype: int64,\n",
       " Series([], dtype: int64))"
      ]
     },
     "execution_count": 10,
     "metadata": {},
     "output_type": "execute_result"
    }
   ],
   "source": [
    "s[3:7:2],s[3:7:-2]"
   ]
  },
  {
   "cell_type": "code",
   "execution_count": null,
   "id": "88369bb2",
   "metadata": {},
   "outputs": [],
   "source": []
  }
 ],
 "metadata": {
  "kernelspec": {
   "display_name": "Python 3",
   "language": "python",
   "name": "python3"
  },
  "language_info": {
   "codemirror_mode": {
    "name": "ipython",
    "version": 3
   },
   "file_extension": ".py",
   "mimetype": "text/x-python",
   "name": "python",
   "nbconvert_exporter": "python",
   "pygments_lexer": "ipython3",
   "version": "3.8.8"
  }
 },
 "nbformat": 4,
 "nbformat_minor": 5
}
