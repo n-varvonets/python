{
 "cells": [
  {
   "cell_type": "code",
   "execution_count": 8,
   "id": "f13212df",
   "metadata": {},
   "outputs": [],
   "source": [
    "import pandas as pd \n",
    "from random import randint, choice\n",
    "numbers = [randint(-50,50) for i in range(6)]\n",
    "indexes = [choice([0,1,2,3]) for i in range(6)] #  функция choice выбирала нам случайное число из списка"
   ]
  },
  {
   "cell_type": "code",
   "execution_count": 9,
   "id": "f79452ac",
   "metadata": {},
   "outputs": [
    {
     "data": {
      "text/plain": [
       "(0   -29\n",
       " 1    34\n",
       " 2    13\n",
       " 3   -15\n",
       " 4    33\n",
       " 5    16\n",
       " dtype: int64,\n",
       " 3   -29\n",
       " 3    34\n",
       " 3    13\n",
       " 2   -15\n",
       " 0    33\n",
       " 0    16\n",
       " dtype: int64)"
      ]
     },
     "execution_count": 9,
     "metadata": {},
     "output_type": "execute_result"
    }
   ],
   "source": [
    "s = pd.Series(numbers)\n",
    "s_not_unique = pd.Series(numbers, index=indexes)\n",
    "s, s_not_unique"
   ]
  },
  {
   "cell_type": "markdown",
   "id": "53f378b0",
   "metadata": {},
   "source": [
    "### loc()  возращает ВСЕ эелементы инедкса ,  iloc() -возвращает значение ПО РЯДУ индекса"
   ]
  },
  {
   "cell_type": "code",
   "execution_count": 12,
   "id": "ffeb7b36",
   "metadata": {},
   "outputs": [
    {
     "data": {
      "text/plain": [
       "(3   -29\n",
       " 3    34\n",
       " 3    13\n",
       " dtype: int64,\n",
       " 2   -15\n",
       " 0    33\n",
       " 0    16\n",
       " dtype: int64)"
      ]
     },
     "execution_count": 12,
     "metadata": {},
     "output_type": "execute_result"
    }
   ],
   "source": [
    "s_not_unique.loc[3], s_not_unique.loc[[2,0]]  #  несколько значений выбора нужно помещать в двойные кв.скобки"
   ]
  },
  {
   "cell_type": "code",
   "execution_count": 13,
   "id": "a9cf6cc9",
   "metadata": {},
   "outputs": [
    {
     "data": {
      "text/plain": [
       "(-15,\n",
       " 3    13\n",
       " 3   -29\n",
       " dtype: int64)"
      ]
     },
     "execution_count": 13,
     "metadata": {},
     "output_type": "execute_result"
    }
   ],
   "source": [
    "s_not_unique.iloc[3], s_not_unique.iloc[[2,0]]  #  несколько значений выбора нужно помещать в двойные кв.скобки"
   ]
  },
  {
   "cell_type": "markdown",
   "id": "2227d329",
   "metadata": {},
   "source": [
    "### Выбранные НЕуникальные значения можно изменять"
   ]
  },
  {
   "cell_type": "code",
   "execution_count": 17,
   "id": "aaa2c57d",
   "metadata": {},
   "outputs": [
    {
     "data": {
      "text/plain": [
       "3    -29\n",
       "3   -100\n",
       "3   -100\n",
       "2    -15\n",
       "0     33\n",
       "0     16\n",
       "dtype: int64"
      ]
     },
     "execution_count": 17,
     "metadata": {},
     "output_type": "execute_result"
    }
   ],
   "source": [
    "s_not_unique.iloc[[1,2]] = -100\n",
    "s_not_unique"
   ]
  },
  {
   "cell_type": "markdown",
   "id": "d01505a1",
   "metadata": {},
   "source": [
    "### Так же работает и с ИМЕНОВАННЫМИ НЕуникльными ключами"
   ]
  },
  {
   "cell_type": "code",
   "execution_count": 18,
   "id": "e4060d4b",
   "metadata": {},
   "outputs": [
    {
     "data": {
      "text/plain": [
       "['a', 'c', 'c', 'a', 'a', 'a']"
      ]
     },
     "execution_count": 18,
     "metadata": {},
     "output_type": "execute_result"
    }
   ],
   "source": [
    "alpha = [choice(\"abc\") for i in range(6)] #  функция choice выбирала нам случайное число из списка\n",
    "alpha"
   ]
  },
  {
   "cell_type": "code",
   "execution_count": 21,
   "id": "a1850322",
   "metadata": {},
   "outputs": [
    {
     "data": {
      "text/plain": [
       "a   -29\n",
       "c    34\n",
       "c    13\n",
       "a   -15\n",
       "a    33\n",
       "a    16\n",
       "dtype: int64"
      ]
     },
     "execution_count": 21,
     "metadata": {},
     "output_type": "execute_result"
    }
   ],
   "source": [
    "s_not_unique_alpha = pd.Series(numbers, alpha)\n",
    "s_not_unique_alpha"
   ]
  },
  {
   "cell_type": "code",
   "execution_count": 24,
   "id": "0959ec89",
   "metadata": {},
   "outputs": [
    {
     "data": {
      "text/plain": [
       "(c    34\n",
       " a    33\n",
       " dtype: int64,\n",
       " c    34\n",
       " c    13\n",
       " dtype: int64)"
      ]
     },
     "execution_count": 24,
     "metadata": {},
     "output_type": "execute_result"
    }
   ],
   "source": [
    "s_not_unique_alpha.iloc[[1,4]], s_not_unique_alpha.loc[\"c\"]"
   ]
  },
  {
   "cell_type": "code",
   "execution_count": null,
   "id": "2a10783f",
   "metadata": {},
   "outputs": [],
   "source": []
  },
  {
   "cell_type": "code",
   "execution_count": null,
   "id": "73fb1b72",
   "metadata": {},
   "outputs": [],
   "source": []
  }
 ],
 "metadata": {
  "kernelspec": {
   "display_name": "Python 3",
   "language": "python",
   "name": "python3"
  },
  "language_info": {
   "codemirror_mode": {
    "name": "ipython",
    "version": 3
   },
   "file_extension": ".py",
   "mimetype": "text/x-python",
   "name": "python",
   "nbconvert_exporter": "python",
   "pygments_lexer": "ipython3",
   "version": "3.8.8"
  }
 },
 "nbformat": 4,
 "nbformat_minor": 5
}
