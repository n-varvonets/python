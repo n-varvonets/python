{
 "cells": [
  {
   "cell_type": "code",
   "execution_count": 1,
   "id": "a7d8e076",
   "metadata": {},
   "outputs": [],
   "source": [
    "import pandas as pd \n",
    "from random import randint, choice\n",
    "from faker import Faker\n",
    "\n",
    "fake = Faker()\n",
    "numbers = [randint(-50,50) for i in range(6)]\n",
    "indexes = [choice([0,1,2,3]) for i in range(6)] \n",
    "names = [fake.name() for i in range(6)]"
   ]
  },
  {
   "cell_type": "code",
   "execution_count": 2,
   "id": "e542b618",
   "metadata": {},
   "outputs": [
    {
     "data": {
      "text/plain": [
       "(['Emily Hernandez',\n",
       "  'Elizabeth Jackson',\n",
       "  'Susan Smith',\n",
       "  'Mark Morton',\n",
       "  'Melinda Boyd',\n",
       "  'Sarah Ramirez'],\n",
       " 0   -34\n",
       " 1    18\n",
       " 2    50\n",
       " 3     8\n",
       " 4   -43\n",
       " 5   -33\n",
       " dtype: int64)"
      ]
     },
     "execution_count": 2,
     "metadata": {},
     "output_type": "execute_result"
    }
   ],
   "source": [
    "a = pd.Series(numbers)\n",
    "names, a"
   ]
  },
  {
   "cell_type": "markdown",
   "id": "a79c6b7d",
   "metadata": {},
   "source": [
    "#### Метод sort_values() - памагает нам отсортировать серию значений по возрастиния/убыванию"
   ]
  },
  {
   "cell_type": "markdown",
   "id": "5a65ab11",
   "metadata": {},
   "source": [
    "#### но сам он ен изменяет серию, для этого нужно добавить параметр  inplace=True , то сохраняет в тек. переменную"
   ]
  },
  {
   "cell_type": "markdown",
   "id": "20725834",
   "metadata": {},
   "source": [
    "#### но если что-то пошло не так и нажно вернуть в текщуее положение нашу серию, то её модно обратно отсортировать по индексу"
   ]
  },
  {
   "cell_type": "markdown",
   "id": "4623b151",
   "metadata": {},
   "source": [
    "#### но sort_index() так же не сзаменяет переменную серию, для этого нужно добавить параметр inplace=True"
   ]
  },
  {
   "cell_type": "code",
   "execution_count": 3,
   "id": "cc3cbaef",
   "metadata": {},
   "outputs": [
    {
     "data": {
      "text/plain": [
       "Emily Hernandez     -34\n",
       "Elizabeth Jackson    18\n",
       "Susan Smith          50\n",
       "Mark Morton           8\n",
       "Melinda Boyd        -43\n",
       "Sarah Ramirez       -33\n",
       "dtype: int64"
      ]
     },
     "execution_count": 3,
     "metadata": {},
     "output_type": "execute_result"
    }
   ],
   "source": [
    "n = pd.Series(numbers, names)\n",
    "n"
   ]
  },
  {
   "cell_type": "markdown",
   "id": "991fe101",
   "metadata": {},
   "source": [
    "#### 2) для сорироваки в алфвитном прядке можно применить sort_index()"
   ]
  },
  {
   "cell_type": "code",
   "execution_count": 6,
   "id": "0f442eeb",
   "metadata": {},
   "outputs": [
    {
     "data": {
      "text/plain": [
       "(Elizabeth Jackson    18\n",
       " Emily Hernandez     -34\n",
       " Mark Morton           8\n",
       " Melinda Boyd        -43\n",
       " Sarah Ramirez       -33\n",
       " Susan Smith          50\n",
       " dtype: int64,\n",
       " Susan Smith          50\n",
       " Sarah Ramirez       -33\n",
       " Melinda Boyd        -43\n",
       " Mark Morton           8\n",
       " Emily Hernandez     -34\n",
       " Elizabeth Jackson    18\n",
       " dtype: int64)"
      ]
     },
     "execution_count": 6,
     "metadata": {},
     "output_type": "execute_result"
    }
   ],
   "source": [
    "n.sort_index(),  n.sort_index(ascending=False) # ascending(по возрастанию) - меняет направление сортироваки сверху-вниз"
   ]
  },
  {
   "cell_type": "code",
   "execution_count": null,
   "id": "eebb74c4",
   "metadata": {},
   "outputs": [],
   "source": []
  }
 ],
 "metadata": {
  "kernelspec": {
   "display_name": "Python 3",
   "language": "python",
   "name": "python3"
  },
  "language_info": {
   "codemirror_mode": {
    "name": "ipython",
    "version": 3
   },
   "file_extension": ".py",
   "mimetype": "text/x-python",
   "name": "python",
   "nbconvert_exporter": "python",
   "pygments_lexer": "ipython3",
   "version": "3.8.8"
  }
 },
 "nbformat": 4,
 "nbformat_minor": 5
}
