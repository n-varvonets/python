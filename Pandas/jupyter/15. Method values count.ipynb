{
 "cells": [
  {
   "cell_type": "code",
   "execution_count": 7,
   "id": "c853872c",
   "metadata": {},
   "outputs": [
    {
     "data": {
      "text/plain": [
       "([-24, 27, 33, -10, -48, -24],\n",
       " Gregory Smith           -24\n",
       " Adam Morris              27\n",
       " Jennifer Pollard         33\n",
       " Christopher Jones DVM   -10\n",
       " James Robinson          -48\n",
       " Charles Gibson          -24\n",
       " dtype: int64,\n",
       " 2020-09-13            Gregory Smith\n",
       " 1992-04-06              Adam Morris\n",
       " 1979-08-10         Jennifer Pollard\n",
       " 1977-08-17    Christopher Jones DVM\n",
       " 2020-08-31           James Robinson\n",
       " 1979-07-05           Charles Gibson\n",
       " dtype: object)"
      ]
     },
     "execution_count": 7,
     "metadata": {},
     "output_type": "execute_result"
    }
   ],
   "source": [
    "import pandas as pd \n",
    "from random import randint, choice\n",
    "from faker import Faker\n",
    "\n",
    "fake = Faker()\n",
    "numbers = [randint(-50,50) for i in range(6)]\n",
    "indexes = [choice([0,1,2,3]) for i in range(6)] \n",
    "names = [fake.name() for i in range(6)]\n",
    "dates = [fake.date() for i in range(6)]\n",
    "\n",
    "a = pd.Series(numbers, names)\n",
    "d = pd.Series(names, dates)\n",
    "numbers, a, d"
   ]
  },
  {
   "cell_type": "markdown",
   "id": "86a4d7a5",
   "metadata": {},
   "source": [
    "#### Можно отсортировать знаечения"
   ]
  },
  {
   "cell_type": "code",
   "execution_count": 9,
   "id": "6d0fce50",
   "metadata": {},
   "outputs": [
    {
     "data": {
      "text/plain": [
       "(-24    2\n",
       "  33    1\n",
       " -10    1\n",
       "  27    1\n",
       " -48    1\n",
       " dtype: int64,\n",
       " Christopher Jones DVM    1\n",
       " James Robinson           1\n",
       " Gregory Smith            1\n",
       " Adam Morris              1\n",
       " Charles Gibson           1\n",
       " Jennifer Pollard         1\n",
       " dtype: int64)"
      ]
     },
     "execution_count": 9,
     "metadata": {},
     "output_type": "execute_result"
    }
   ],
   "source": [
    "a.value_counts(), d.value_counts()"
   ]
  },
  {
   "cell_type": "code",
   "execution_count": null,
   "id": "404ff29c",
   "metadata": {},
   "outputs": [],
   "source": []
  }
 ],
 "metadata": {
  "kernelspec": {
   "display_name": "Python 3",
   "language": "python",
   "name": "python3"
  },
  "language_info": {
   "codemirror_mode": {
    "name": "ipython",
    "version": 3
   },
   "file_extension": ".py",
   "mimetype": "text/x-python",
   "name": "python",
   "nbconvert_exporter": "python",
   "pygments_lexer": "ipython3",
   "version": "3.8.8"
  }
 },
 "nbformat": 4,
 "nbformat_minor": 5
}
