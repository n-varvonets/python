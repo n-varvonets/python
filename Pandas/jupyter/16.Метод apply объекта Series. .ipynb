{
 "cells": [
  {
   "cell_type": "code",
   "execution_count": 1,
   "id": "8dc989d4",
   "metadata": {},
   "outputs": [],
   "source": [
    "import pandas as pd \n",
    "from random import randint, choice\n",
    "from faker import Faker\n",
    "\n",
    "fake = Faker()\n",
    "numbers = [randint(-50,50) for i in range(6)]\n",
    "names = [fake.name() for i in range(6)]\n",
    "\n",
    "a = pd.Series(numbers)"
   ]
  },
  {
   "cell_type": "code",
   "execution_count": 3,
   "id": "3e68ff9e",
   "metadata": {},
   "outputs": [],
   "source": [
    "def sign(x): # функция для серии должна принимать одно значение\n",
    "    if x > 0:\n",
    "        return 'Positive'\n",
    "    if x < 0:\n",
    "        return 'Negative'\n",
    "    return 'Zero'"
   ]
  },
  {
   "cell_type": "code",
   "execution_count": 5,
   "id": "5b202f97",
   "metadata": {},
   "outputs": [
    {
     "data": {
      "text/plain": [
       "('Positive', 'Negative', 'Zero')"
      ]
     },
     "execution_count": 5,
     "metadata": {},
     "output_type": "execute_result"
    }
   ],
   "source": [
    "sign(5), sign(-8), sign(0)"
   ]
  },
  {
   "cell_type": "markdown",
   "id": "77c46f3a",
   "metadata": {},
   "source": [
    "### Существует метод  apply, который вызывает функцию к каждому значению серии"
   ]
  },
  {
   "cell_type": "code",
   "execution_count": 8,
   "id": "55b549fe",
   "metadata": {},
   "outputs": [
    {
     "data": {
      "text/plain": [
       "(0    Negative\n",
       " 1    Positive\n",
       " 2    Negative\n",
       " 3    Positive\n",
       " 4    Positive\n",
       " 5    Negative\n",
       " dtype: object,\n",
       " 0   -15\n",
       " 1    41\n",
       " 2   -41\n",
       " 3    24\n",
       " 4    13\n",
       " 5    -3\n",
       " dtype: int64)"
      ]
     },
     "execution_count": 8,
     "metadata": {},
     "output_type": "execute_result"
    }
   ],
   "source": [
    "a.apply(sign), a"
   ]
  },
  {
   "cell_type": "markdown",
   "id": "77bac51b",
   "metadata": {},
   "source": [
    "## когда значения - строки "
   ]
  },
  {
   "cell_type": "code",
   "execution_count": 9,
   "id": "16931db4",
   "metadata": {},
   "outputs": [
    {
     "data": {
      "text/plain": [
       "0       Michael Rowe\n",
       "1     Zachary Farmer\n",
       "2    Patricia Becker\n",
       "3        Amanda Hull\n",
       "4       Anthony Reed\n",
       "5      Alison Howard\n",
       "dtype: object"
      ]
     },
     "execution_count": 9,
     "metadata": {},
     "output_type": "execute_result"
    }
   ],
   "source": [
    "n = pd.Series(names)\n",
    "n"
   ]
  },
  {
   "cell_type": "code",
   "execution_count": 13,
   "id": "1bd79a66",
   "metadata": {},
   "outputs": [
    {
     "data": {
      "text/plain": [
       "0      Rowe\n",
       "1    Farmer\n",
       "2    Becker\n",
       "3      Hull\n",
       "4      Reed\n",
       "5    Howard\n",
       "dtype: object"
      ]
     },
     "execution_count": 13,
     "metadata": {},
     "output_type": "execute_result"
    }
   ],
   "source": [
    "def surname(x):\n",
    "    return x.split()[1]\n",
    "\n",
    "n.apply(surname)\n",
    "    "
   ]
  },
  {
   "cell_type": "code",
   "execution_count": 10,
   "id": "4fd6c2e1",
   "metadata": {},
   "outputs": [
    {
     "data": {
      "text/plain": [
       "['Michael', 'Rowe']"
      ]
     },
     "execution_count": 10,
     "metadata": {},
     "output_type": "execute_result"
    }
   ],
   "source": [
    "'Michael Rowe'.split()"
   ]
  },
  {
   "cell_type": "markdown",
   "id": "d439435b",
   "metadata": {},
   "source": [
    "### или можно таким красивым способом"
   ]
  },
  {
   "cell_type": "code",
   "execution_count": 14,
   "id": "8eb16f2d",
   "metadata": {},
   "outputs": [
    {
     "data": {
      "text/plain": [
       "0      Rowe\n",
       "1    Farmer\n",
       "2    Becker\n",
       "3      Hull\n",
       "4      Reed\n",
       "5    Howard\n",
       "dtype: object"
      ]
     },
     "execution_count": 14,
     "metadata": {},
     "output_type": "execute_result"
    }
   ],
   "source": [
    "n.apply(lambda x: x.split()[1])"
   ]
  },
  {
   "cell_type": "code",
   "execution_count": null,
   "id": "9037ff0f",
   "metadata": {},
   "outputs": [],
   "source": []
  }
 ],
 "metadata": {
  "kernelspec": {
   "display_name": "Python 3",
   "language": "python",
   "name": "python3"
  },
  "language_info": {
   "codemirror_mode": {
    "name": "ipython",
    "version": 3
   },
   "file_extension": ".py",
   "mimetype": "text/x-python",
   "name": "python",
   "nbconvert_exporter": "python",
   "pygments_lexer": "ipython3",
   "version": "3.8.8"
  }
 },
 "nbformat": 4,
 "nbformat_minor": 5
}
