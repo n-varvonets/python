{
 "cells": [
  {
   "cell_type": "code",
   "execution_count": 3,
   "id": "17d793c2",
   "metadata": {},
   "outputs": [],
   "source": [
    "import pandas as pd \n",
    "from random import randint, choice\n",
    "from faker import Faker\n",
    "\n",
    "fake = Faker()\n",
    "numbers = [randint(-50,50) for i in range(10)]\n",
    "names = [fake.name() for i in range(5)]\n",
    "dates = [fake.date() for i in range(5)]\n",
    "dubles_names = [choice(names) for i in range(10)]\n",
    "\n",
    "a = pd.Series(numbers)\n",
    "n = pd.Series(names)"
   ]
  },
  {
   "cell_type": "code",
   "execution_count": 4,
   "id": "3c85babd",
   "metadata": {},
   "outputs": [
    {
     "data": {
      "text/plain": [
       "(['Brian Sanchez',\n",
       "  'Samuel Fuller',\n",
       "  'Yvette Barnett MD',\n",
       "  'Jodi Oneal',\n",
       "  'Kevin Jimenez'],\n",
       " ['Yvette Barnett MD',\n",
       "  'Jodi Oneal',\n",
       "  'Brian Sanchez',\n",
       "  'Kevin Jimenez',\n",
       "  'Jodi Oneal',\n",
       "  'Brian Sanchez',\n",
       "  'Yvette Barnett MD',\n",
       "  'Jodi Oneal',\n",
       "  'Brian Sanchez',\n",
       "  'Samuel Fuller'],\n",
       " [-6, 36, 48, 18, 7, 16, -44, -48, -23, 33])"
      ]
     },
     "execution_count": 4,
     "metadata": {},
     "output_type": "execute_result"
    }
   ],
   "source": [
    "names, dubles_names, numbers"
   ]
  },
  {
   "cell_type": "code",
   "execution_count": 10,
   "id": "16f6df15",
   "metadata": {},
   "outputs": [
    {
     "data": {
      "text/plain": [
       "(0    -1\n",
       " 1    41\n",
       " 2    53\n",
       " 3    23\n",
       " 4    12\n",
       " 5    21\n",
       " 6   -39\n",
       " 7   -43\n",
       " 8   -18\n",
       " 9    38\n",
       " dtype: int64,\n",
       " 0     0\n",
       " 1    42\n",
       " 2    54\n",
       " 3    24\n",
       " 4    13\n",
       " 5    22\n",
       " 6   -38\n",
       " 7   -42\n",
       " 8   -17\n",
       " 9    39\n",
       " dtype: int64)"
      ]
     },
     "execution_count": 10,
     "metadata": {},
     "output_type": "execute_result"
    }
   ],
   "source": [
    "def inc(x):\n",
    "    return x + 1\n",
    "a, a.map(inc)"
   ]
  },
  {
   "cell_type": "code",
   "execution_count": 11,
   "id": "08d74559",
   "metadata": {},
   "outputs": [
    {
     "data": {
      "text/plain": [
       "0        zehcnaS nairB\n",
       "1        relluF leumaS\n",
       "2    DM ttenraB ettevY\n",
       "3           laenO idoJ\n",
       "4        zenemiJ niveK\n",
       "dtype: object"
      ]
     },
     "execution_count": 11,
     "metadata": {},
     "output_type": "execute_result"
    }
   ],
   "source": [
    "#  или можно заюзать лямбду\n",
    "n.map(lambda x: x[::-1])"
   ]
  },
  {
   "cell_type": "markdown",
   "id": "8235afa8",
   "metadata": {},
   "source": [
    "### map -  в эму функцию моэно передавать список или  Series"
   ]
  },
  {
   "cell_type": "code",
   "execution_count": 15,
   "id": "93a37921",
   "metadata": {},
   "outputs": [
    {
     "data": {
      "text/plain": [
       "(0    Yvette Barnett MD\n",
       " 1           Jodi Oneal\n",
       " 2        Brian Sanchez\n",
       " 3        Kevin Jimenez\n",
       " 4           Jodi Oneal\n",
       " 5        Brian Sanchez\n",
       " 6    Yvette Barnett MD\n",
       " 7           Jodi Oneal\n",
       " 8        Brian Sanchez\n",
       " 9        Samuel Fuller\n",
       " dtype: object,\n",
       " Brian Sanchez        1985-08-21\n",
       " Samuel Fuller        2011-01-06\n",
       " Yvette Barnett MD    1982-12-14\n",
       " Jodi Oneal           1982-07-11\n",
       " Kevin Jimenez        1988-06-12\n",
       " dtype: object)"
      ]
     },
     "execution_count": 15,
     "metadata": {},
     "output_type": "execute_result"
    }
   ],
   "source": [
    "#  создадим список  d_n  и серию где время - значение и имя - ключ\n",
    "d_n = pd.Series(dubles_names)\n",
    "date_names = pd.Series(dates, names)\n",
    "d_n, date_names"
   ]
  },
  {
   "cell_type": "markdown",
   "id": "6614c7f5",
   "metadata": {},
   "source": [
    "### пройдемся по нашей серии и передадим в ней список ключей, по которому будет проводиться вычисление(узнавания значений ключа)"
   ]
  },
  {
   "cell_type": "code",
   "execution_count": 17,
   "id": "3a9fd8da",
   "metadata": {},
   "outputs": [
    {
     "data": {
      "text/plain": [
       "0    1982-12-14\n",
       "1    1982-07-11\n",
       "2    1985-08-21\n",
       "3    1988-06-12\n",
       "4    1982-07-11\n",
       "5    1985-08-21\n",
       "6    1982-12-14\n",
       "7    1982-07-11\n",
       "8    1985-08-21\n",
       "9    2011-01-06\n",
       "dtype: object"
      ]
     },
     "execution_count": 17,
     "metadata": {},
     "output_type": "execute_result"
    }
   ],
   "source": [
    "d_n.map(date_names) #  каждое знаения из d_n поступает в date_names в качестве ключа, по которому берется занчения"
   ]
  },
  {
   "cell_type": "code",
   "execution_count": null,
   "id": "eb7113fb",
   "metadata": {},
   "outputs": [],
   "source": []
  }
 ],
 "metadata": {
  "kernelspec": {
   "display_name": "Python 3",
   "language": "python",
   "name": "python3"
  },
  "language_info": {
   "codemirror_mode": {
    "name": "ipython",
    "version": 3
   },
   "file_extension": ".py",
   "mimetype": "text/x-python",
   "name": "python",
   "nbconvert_exporter": "python",
   "pygments_lexer": "ipython3",
   "version": "3.8.8"
  }
 },
 "nbformat": 4,
 "nbformat_minor": 5
}
