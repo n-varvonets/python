{
 "cells": [
  {
   "cell_type": "code",
   "execution_count": 4,
   "id": "b3c67b70",
   "metadata": {},
   "outputs": [],
   "source": [
    "import pandas as pd"
   ]
  },
  {
   "cell_type": "code",
   "execution_count": 5,
   "id": "5bf326dd",
   "metadata": {},
   "outputs": [
    {
     "data": {
      "text/plain": [
       "<module 'pandas' from '/home/alex/anaconda3/lib/python3.8/site-packages/pandas/__init__.py'>"
      ]
     },
     "execution_count": 5,
     "metadata": {},
     "output_type": "execute_result"
    }
   ],
   "source": [
    "pd"
   ]
  },
  {
   "cell_type": "markdown",
   "id": "72961c60",
   "metadata": {},
   "source": [
    "### Есть Series(одномерный список), а есть Dataframe(вложенный список).Начнем с Series."
   ]
  },
  {
   "cell_type": "code",
   "execution_count": 9,
   "id": "ed282dc8",
   "metadata": {},
   "outputs": [],
   "source": [
    "lst_a = [54, 84, 123, 78]"
   ]
  },
  {
   "cell_type": "code",
   "execution_count": 10,
   "id": "2ecf7e96",
   "metadata": {},
   "outputs": [],
   "source": [
    "lst_b = ['hello', 'worls', 45]"
   ]
  },
  {
   "cell_type": "code",
   "execution_count": 11,
   "id": "83a70bfd",
   "metadata": {},
   "outputs": [],
   "source": [
    "a = pd.Series(lst_a) #  внутри модуля pd есть class Series в которую я передаю коллекцию, которую создали выше\n",
    "b = pd.Series(lst_b)"
   ]
  },
  {
   "cell_type": "code",
   "execution_count": 12,
   "id": "d89901f3",
   "metadata": {},
   "outputs": [
    {
     "data": {
      "text/plain": [
       "(0     54\n",
       " 1     84\n",
       " 2    123\n",
       " 3     78\n",
       " dtype: int64,\n",
       " 0    hello\n",
       " 1    worls\n",
       " 2       45\n",
       " dtype: object)"
      ]
     },
     "execution_count": 12,
     "metadata": {},
     "output_type": "execute_result"
    }
   ],
   "source": [
    "a, b"
   ]
  },
  {
   "cell_type": "code",
   "execution_count": 15,
   "id": "2963136d",
   "metadata": {},
   "outputs": [
    {
     "data": {
      "text/plain": [
       "(54,\n",
       " [54, 78, 84, 123],\n",
       " 0    hello\n",
       " 1    worls\n",
       " 2       45\n",
       " dtype: object,\n",
       " ['hello', 'worls', 45],\n",
       " ['w', 'o', 'r', 'l', 's'])"
      ]
     },
     "execution_count": 15,
     "metadata": {},
     "output_type": "execute_result"
    }
   ],
   "source": [
    "a[0], sorted(a), b, list(b), list(b[1])"
   ]
  },
  {
   "cell_type": "markdown",
   "id": "a727bfa9",
   "metadata": {},
   "source": [
    "### Так же можно вторым параметром задавть соответсиве знаению, т.е. подобно ключу"
   ]
  },
  {
   "cell_type": "code",
   "execution_count": 29,
   "id": "acdbb5af",
   "metadata": {},
   "outputs": [
    {
     "data": {
      "text/plain": [
       "('some', 'jbjects')"
      ]
     },
     "execution_count": 29,
     "metadata": {},
     "output_type": "execute_result"
    }
   ],
   "source": [
    "lst_c = ['some', 'jbjects', 78]\n",
    "c = pd.Series(lst_c, ['key_1', \"key_2\", 'key_3']) # передаем вторым параметром четкое, кол-во ключей для значений(а что ошибка) что бы можно было потом по ним обращаться \n",
    "c['key_1'],c[1]"
   ]
  },
  {
   "cell_type": "markdown",
   "id": "c2cd021f",
   "metadata": {},
   "source": [
    "### Таким же образом можно передать и словарь что бы можно было ображаться к серии по именованным ключам"
   ]
  },
  {
   "cell_type": "code",
   "execution_count": 30,
   "id": "c5b76c14",
   "metadata": {},
   "outputs": [
    {
     "data": {
      "text/plain": [
       "('second_value', 'first_value')"
      ]
     },
     "execution_count": 30,
     "metadata": {},
     "output_type": "execute_result"
    }
   ],
   "source": [
    "dict_a = {'first_key':'first_value', 'second_key':'second_value','fird_key':'fird_value'}\n",
    "d = pd.Series(dict_a)\n",
    "d[1], d['first_key']"
   ]
  },
  {
   "cell_type": "code",
   "execution_count": null,
   "id": "cef5263b",
   "metadata": {},
   "outputs": [],
   "source": []
  },
  {
   "cell_type": "code",
   "execution_count": null,
   "id": "7ac3a576",
   "metadata": {},
   "outputs": [],
   "source": []
  }
 ],
 "metadata": {
  "kernelspec": {
   "display_name": "Python 3",
   "language": "python",
   "name": "python3"
  },
  "language_info": {
   "codemirror_mode": {
    "name": "ipython",
    "version": 3
   },
   "file_extension": ".py",
   "mimetype": "text/x-python",
   "name": "python",
   "nbconvert_exporter": "python",
   "pygments_lexer": "ipython3",
   "version": "3.8.8"
  }
 },
 "nbformat": 4,
 "nbformat_minor": 5
}
