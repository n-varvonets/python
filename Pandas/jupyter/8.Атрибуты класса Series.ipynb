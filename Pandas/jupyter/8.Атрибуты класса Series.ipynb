{
 "cells": [
  {
   "cell_type": "code",
   "execution_count": 1,
   "id": "1f74117a",
   "metadata": {},
   "outputs": [],
   "source": [
    "import pandas as pd"
   ]
  },
  {
   "cell_type": "code",
   "execution_count": 11,
   "id": "77e16b5c",
   "metadata": {},
   "outputs": [],
   "source": [
    "names = ['Bob','Jack', 'Kevin']\n",
    "index_attr = ['b_0','j_1','k_2']\n",
    "numbers = [10,20,30,40,50]"
   ]
  },
  {
   "cell_type": "code",
   "execution_count": 3,
   "id": "78ca90c9",
   "metadata": {},
   "outputs": [],
   "source": [
    "n___s = pd.Series(names)\n",
    "nums = pd.Series(numbers)"
   ]
  },
  {
   "cell_type": "markdown",
   "id": "4589b055",
   "metadata": {},
   "source": [
    "## у  class Seeries  есть свои атрибуты: .(tab)  и будет вес список атрр"
   ]
  },
  {
   "cell_type": "markdown",
   "id": "5b15ccc5",
   "metadata": {},
   "source": [
    "### 1)values"
   ]
  },
  {
   "cell_type": "code",
   "execution_count": 5,
   "id": "67bfd03f",
   "metadata": {},
   "outputs": [
    {
     "data": {
      "text/plain": [
       "(array(['Bob', 'Jack', 'Kevin'], dtype=object), array([10, 20, 30, 40, 50]))"
      ]
     },
     "execution_count": 5,
     "metadata": {},
     "output_type": "execute_result"
    }
   ],
   "source": [
    "n___s.values, nums.values"
   ]
  },
  {
   "cell_type": "markdown",
   "id": "2fb2fdd1",
   "metadata": {},
   "source": [
    "### 2)index"
   ]
  },
  {
   "cell_type": "code",
   "execution_count": 6,
   "id": "5ef581e5",
   "metadata": {},
   "outputs": [
    {
     "data": {
      "text/plain": [
       "(RangeIndex(start=0, stop=3, step=1), RangeIndex(start=0, stop=5, step=1))"
      ]
     },
     "execution_count": 6,
     "metadata": {},
     "output_type": "execute_result"
    }
   ],
   "source": [
    "n___s.index, nums.index #  возращает \"с\" и \"до\" (НЕВКЛЮЧИТЕЛЬНО) "
   ]
  },
  {
   "cell_type": "markdown",
   "id": "6137232b",
   "metadata": {},
   "source": [
    "### 2.1)Можно передать именованные аргументы и возращать их именованные индексы"
   ]
  },
  {
   "cell_type": "code",
   "execution_count": 13,
   "id": "ffbb3096",
   "metadata": {},
   "outputs": [
    {
     "data": {
      "text/plain": [
       "(Index(['b_0', 'j_1', 'k_2'], dtype='object'),\n",
       " RangeIndex(start=0, stop=3, step=1))"
      ]
     },
     "execution_count": 13,
     "metadata": {},
     "output_type": "execute_result"
    }
   ],
   "source": [
    "n___s_indexed = pd.Series(names, index=index_attr)\n",
    "n___s_indexed.index, n___s.index"
   ]
  },
  {
   "cell_type": "markdown",
   "id": "d0a6d021",
   "metadata": {},
   "source": [
    "### 3.)Size"
   ]
  },
  {
   "cell_type": "code",
   "execution_count": 14,
   "id": "2032af66",
   "metadata": {},
   "outputs": [
    {
     "data": {
      "text/plain": [
       "(3, 5)"
      ]
     },
     "execution_count": 14,
     "metadata": {},
     "output_type": "execute_result"
    }
   ],
   "source": [
    "n___s.size, nums.size"
   ]
  },
  {
   "cell_type": "markdown",
   "id": "f1901b9e",
   "metadata": {},
   "source": [
    "### 4)is_unique - возращает бул если значения в списке не уникальные/уникальные"
   ]
  },
  {
   "cell_type": "code",
   "execution_count": 17,
   "id": "9b622711",
   "metadata": {},
   "outputs": [
    {
     "data": {
      "text/plain": [
       "(True, False)"
      ]
     },
     "execution_count": 17,
     "metadata": {},
     "output_type": "execute_result"
    }
   ],
   "source": [
    "lst_1 = ['bob','bob',1]\n",
    "lst_1_s = pd.Series(lst_1)\n",
    "n___s.is_unique, lst_1_s.is_unique"
   ]
  },
  {
   "cell_type": "markdown",
   "id": "d0aad621",
   "metadata": {},
   "source": [
    "### 5)ndim -  взращает размерность.  Series  - это одлномерный список, поэтому будет возращать 1, а вот dataframe - это 2"
   ]
  },
  {
   "cell_type": "code",
   "execution_count": 19,
   "id": "427c96d6",
   "metadata": {},
   "outputs": [
    {
     "data": {
      "text/plain": [
       "1"
      ]
     },
     "execution_count": 19,
     "metadata": {},
     "output_type": "execute_result"
    }
   ],
   "source": [
    "n___s.ndim"
   ]
  },
  {
   "cell_type": "code",
   "execution_count": null,
   "id": "9c12040f",
   "metadata": {},
   "outputs": [],
   "source": []
  }
 ],
 "metadata": {
  "kernelspec": {
   "display_name": "Python 3",
   "language": "python",
   "name": "python3"
  },
  "language_info": {
   "codemirror_mode": {
    "name": "ipython",
    "version": 3
   },
   "file_extension": ".py",
   "mimetype": "text/x-python",
   "name": "python",
   "nbconvert_exporter": "python",
   "pygments_lexer": "ipython3",
   "version": "3.8.8"
  }
 },
 "nbformat": 4,
 "nbformat_minor": 5
}
