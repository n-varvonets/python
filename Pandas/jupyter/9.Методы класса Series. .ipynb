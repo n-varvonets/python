{
 "cells": [
  {
   "cell_type": "code",
   "execution_count": 1,
   "id": "f6bca642",
   "metadata": {},
   "outputs": [],
   "source": [
    "import pandas as pd"
   ]
  },
  {
   "cell_type": "code",
   "execution_count": 2,
   "id": "bdc5c4bc",
   "metadata": {},
   "outputs": [],
   "source": [
    "names = ['Kevin', 'Jack', 'Bob']\n",
    "numbers = [10,-20,50,-30,40]"
   ]
  },
  {
   "cell_type": "code",
   "execution_count": 4,
   "id": "decc9993",
   "metadata": {},
   "outputs": [],
   "source": [
    "s= pd.Series(names)\n",
    "nums = pd.Series(numbers)"
   ]
  },
  {
   "cell_type": "markdown",
   "id": "a3af5145",
   "metadata": {},
   "source": [
    "### 1.)sum()"
   ]
  },
  {
   "cell_type": "code",
   "execution_count": 10,
   "id": "c3eae88d",
   "metadata": {},
   "outputs": [
    {
     "data": {
      "text/plain": [
       "(50, 'KevinJackBob')"
      ]
     },
     "execution_count": 10,
     "metadata": {},
     "output_type": "execute_result"
    }
   ],
   "source": [
    "nums.sum(),s.sum()"
   ]
  },
  {
   "cell_type": "markdown",
   "id": "47d6932e",
   "metadata": {},
   "source": [
    "### 2.)max,min,avarage"
   ]
  },
  {
   "cell_type": "code",
   "execution_count": 12,
   "id": "72f0511a",
   "metadata": {},
   "outputs": [
    {
     "data": {
      "text/plain": [
       "(-30, 50, 'Kevin', 'Bob')"
      ]
     },
     "execution_count": 12,
     "metadata": {},
     "output_type": "execute_result"
    }
   ],
   "source": [
    "nums.min(),nums.max(), s.max(), s.min()"
   ]
  },
  {
   "cell_type": "markdown",
   "id": "2995a0c7",
   "metadata": {},
   "source": [
    "### 3.)product -  перемноэит все значения"
   ]
  },
  {
   "cell_type": "code",
   "execution_count": 13,
   "id": "be23e6f9",
   "metadata": {},
   "outputs": [
    {
     "data": {
      "text/plain": [
       "12000000"
      ]
     },
     "execution_count": 13,
     "metadata": {},
     "output_type": "execute_result"
    }
   ],
   "source": [
    "nums.product()"
   ]
  },
  {
   "cell_type": "markdown",
   "id": "5c6770fa",
   "metadata": {},
   "source": [
    "### 4.)lt   - (less than)"
   ]
  },
  {
   "cell_type": "markdown",
   "id": "96891b8c",
   "metadata": {},
   "source": [
    "4.1) Серию(каждое наше значение) можно сравнивать с каким-то числом: "
   ]
  },
  {
   "cell_type": "code",
   "execution_count": 14,
   "id": "869cda3e",
   "metadata": {},
   "outputs": [
    {
     "data": {
      "text/plain": [
       "(0    False\n",
       " 1     True\n",
       " 2    False\n",
       " 3     True\n",
       " 4    False\n",
       " dtype: bool,\n",
       " 0    10\n",
       " 1   -20\n",
       " 2    50\n",
       " 3   -30\n",
       " 4    40\n",
       " dtype: int64)"
      ]
     },
     "execution_count": 14,
     "metadata": {},
     "output_type": "execute_result"
    }
   ],
   "source": [
    "nums < 2, nums"
   ]
  },
  {
   "cell_type": "markdown",
   "id": "a7c481ba",
   "metadata": {},
   "source": [
    "4.2 - метод lt - это аналог операции сверху"
   ]
  },
  {
   "cell_type": "code",
   "execution_count": 15,
   "id": "fdc08abf",
   "metadata": {},
   "outputs": [
    {
     "data": {
      "text/plain": [
       "0    False\n",
       "1     True\n",
       "2    False\n",
       "3     True\n",
       "4    False\n",
       "dtype: bool"
      ]
     },
     "execution_count": 15,
     "metadata": {},
     "output_type": "execute_result"
    }
   ],
   "source": [
    "nums.lt(2)"
   ]
  },
  {
   "cell_type": "markdown",
   "id": "97d2ccea",
   "metadata": {},
   "source": [
    "### 4.a)gt - (grow than) - больше чем - тоже что что метод выше только в другую сторону"
   ]
  },
  {
   "cell_type": "markdown",
   "id": "a8af3a77",
   "metadata": {},
   "source": [
    "### 5)eq -  тоже что и п.4 - только сравнивает на равенство кажое значении серии"
   ]
  },
  {
   "cell_type": "markdown",
   "id": "79fde4d9",
   "metadata": {},
   "source": [
    "### 6.) ge(больше или равно) и le( меньше или равно) - для каждого значения нашей серии"
   ]
  },
  {
   "cell_type": "markdown",
   "id": "f4b52d9b",
   "metadata": {},
   "source": [
    "### 7)abs -  и так все понятно"
   ]
  },
  {
   "cell_type": "code",
   "execution_count": null,
   "id": "a4a47377",
   "metadata": {},
   "outputs": [],
   "source": []
  }
 ],
 "metadata": {
  "kernelspec": {
   "display_name": "Python 3",
   "language": "python",
   "name": "python3"
  },
  "language_info": {
   "codemirror_mode": {
    "name": "ipython",
    "version": 3
   },
   "file_extension": ".py",
   "mimetype": "text/x-python",
   "name": "python",
   "nbconvert_exporter": "python",
   "pygments_lexer": "ipython3",
   "version": "3.8.8"
  }
 },
 "nbformat": 4,
 "nbformat_minor": 5
}
